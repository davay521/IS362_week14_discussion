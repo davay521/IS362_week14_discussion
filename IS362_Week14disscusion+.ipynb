{
 "cells": [
  {
   "cell_type": "markdown",
   "metadata": {},
   "source": [
    "# Recommender Systems¶\n",
    "\n",
    "## EBAY and Reomendations\n",
    "\n",
    "# Task:\n",
    "#### 1) Perform a Scenario Design analysis as described below. Consider whether it makes sense for your selected recommender system to perform scenario design twice, once for the organization (e.g. Amazon.com) and once for the organization's customers.\n",
    "#### 2) Attempt to reverse engineer what you can about the site, from the site interface and any available information that you can find on the Internet or elsewhere.\n",
    "#### 3) Include specific recommendations about how to improve the site's recommendation capabilities going forward.\n",
    "#### 4) Create your report using a Jupyter notebook, and create a discussion thread with a link to the GitHub repo where your Jupyter Notebook resides. You are not expected to need to write code for this discussion assignment."
   ]
  },
  {
   "cell_type": "markdown",
   "metadata": {},
   "source": [
    "## Scenario Design Analysis:\n",
    "#### 1) Who are your target users?\n",
    "##### Target users are the customers, or people that browse Amazon's website that click on various products and may or may not purchase these items. The target are the people that browse the  website for products that they can get a discount on as well as user that are looking to sell new and used goods.\n",
    "#### 2) What are their key goals?\n",
    "##### Some of the Key goals that Ebay users have are purchasing items that they are interested in as well as hosting auctions and sales of new and used items. Some of the incentives include getting deals on used items from rated sellers as well as having an easy and convient way of selling goods . \n",
    "\n",
    "#### 3) How can you accomplish those goals?\n",
    "##### Ebay helps their clients accomplish these goals by overseeing the buying and selling of all the products on their website ranging from motor vehicles to common house hold items new or used. Ebay is the biggest semi-unstructured e-commerce market place in the world. Ebay relies on Datastax Enterprise to store user activity data and look it up quickly. This is done to model updates and deliver personalized recomendations to the user in the fastest manner and as efficently as possible. \n",
    "  \n"
   ]
  },
  {
   "cell_type": "code",
   "execution_count": null,
   "metadata": {
    "collapsed": true
   },
   "outputs": [],
   "source": []
  }
 ],
 "metadata": {
  "anaconda-cloud": {},
  "kernelspec": {
   "display_name": "Python [default]",
   "language": "python",
   "name": "python3"
  },
  "language_info": {
   "codemirror_mode": {
    "name": "ipython",
    "version": 3
   },
   "file_extension": ".py",
   "mimetype": "text/x-python",
   "name": "python",
   "nbconvert_exporter": "python",
   "pygments_lexer": "ipython3",
   "version": "3.5.2"
  }
 },
 "nbformat": 4,
 "nbformat_minor": 1
}
